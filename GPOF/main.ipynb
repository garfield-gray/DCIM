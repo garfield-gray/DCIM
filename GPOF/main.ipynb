{
 "cells": [
  {
   "cell_type": "code",
   "execution_count": 15,
   "id": "4735e153",
   "metadata": {},
   "outputs": [],
   "source": [
    "using Pkg"
   ]
  },
  {
   "cell_type": "code",
   "execution_count": 16,
   "id": "4adf9100",
   "metadata": {},
   "outputs": [
    {
     "name": "stderr",
     "output_type": "stream",
     "text": [
      "\u001b[32m\u001b[1m    Updating\u001b[22m\u001b[39m registry at `~/.julia/registries/General`\n",
      "\u001b[32m\u001b[1m   Resolving\u001b[22m\u001b[39m package versions...\n",
      "\u001b[32m\u001b[1m   Installed\u001b[22m\u001b[39m ToeplitzMatrices ─ v0.7.0\n",
      "\u001b[32m\u001b[1m    Updating\u001b[22m\u001b[39m `~/.julia/environments/v1.6/Project.toml`\n",
      " \u001b[90m [c751599d] \u001b[39m\u001b[92m+ ToeplitzMatrices v0.7.0\u001b[39m\n",
      "\u001b[32m\u001b[1m    Updating\u001b[22m\u001b[39m `~/.julia/environments/v1.6/Manifest.toml`\n",
      " \u001b[90m [c751599d] \u001b[39m\u001b[92m+ ToeplitzMatrices v0.7.0\u001b[39m\n",
      "\u001b[32m\u001b[1mPrecompiling\u001b[22m\u001b[39m project...\n",
      "\u001b[32m  ✓ \u001b[39mToeplitzMatrices\n",
      "  1 dependency successfully precompiled in 3 seconds (168 already precompiled)\n"
     ]
    }
   ],
   "source": [
    "Pkg.add(\"ToeplitzMatrices\")"
   ]
  },
  {
   "cell_type": "code",
   "execution_count": 17,
   "id": "3f38ba67",
   "metadata": {},
   "outputs": [],
   "source": [
    "using LinearAlgebra\n",
    "using FFTW\n",
    "using ToeplitzMatrices"
   ]
  },
  {
   "cell_type": "code",
   "execution_count": 18,
   "id": "7403513d",
   "metadata": {},
   "outputs": [
    {
     "data": {
      "text/plain": [
       "3×3 Hankel{Float64}:\n",
       " 1.0  2.0  3.0\n",
       " 2.0  3.0  4.0\n",
       " 3.0  4.0  5.0"
      ]
     },
     "execution_count": 18,
     "metadata": {},
     "output_type": "execute_result"
    }
   ],
   "source": [
    "y = Hankel([1.0, 2.0, 3.0], 3:5)"
   ]
  },
  {
   "cell_type": "code",
   "execution_count": 19,
   "id": "5c859bd4",
   "metadata": {},
   "outputs": [
    {
     "data": {
      "text/plain": [
       "1×3 Matrix{Float64}:\n",
       " 14.0  20.0  26.0"
      ]
     },
     "execution_count": 19,
     "metadata": {},
     "output_type": "execute_result"
    }
   ],
   "source": [
    "[1 2 3]*y"
   ]
  },
  {
   "cell_type": "code",
   "execution_count": null,
   "id": "fb6ac1a0",
   "metadata": {},
   "outputs": [],
   "source": []
  }
 ],
 "metadata": {
  "kernelspec": {
   "display_name": "Julia 1.6.2",
   "language": "julia",
   "name": "julia-1.6"
  },
  "language_info": {
   "file_extension": ".jl",
   "mimetype": "application/julia",
   "name": "julia",
   "version": "1.6.2"
  }
 },
 "nbformat": 4,
 "nbformat_minor": 5
}
